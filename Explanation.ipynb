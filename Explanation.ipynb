{
 "cells": [
  {
   "cell_type": "markdown",
   "metadata": {},
   "source": [
    "# GraphQL Erklärungen und Einsichten"
   ]
  },
  {
   "cell_type": "markdown",
   "metadata": {},
   "source": [
    "## Fields and Types\n",
    "GraphQl unterscheidet im wesentlichen zwischen Types und Fields. Dabei gilt\n",
    "- Types können 0 bis n Fields haben\n",
    "- Fields können können (sofern im backend implementiert) Argumente bekommen und geben entsprechend Types zurück\n",
    "- Man kann sich die GraphQL Datendarstellung wie folgt denken ...->Type->Field->Type->Field...\n",
    "- Startpunkt ist der type *Query*\n",
    "- Ende elementare Typen ohne Felder, z.B. Int, String\n",
    "\n",
    "Folgendes beispiel bezeichnet alle komponenten:"
   ]
  },
  {
   "cell_type": "markdown",
   "metadata": {},
   "source": [
    "```\n",
    "{\n",
    "  region(id:\"05911\") {\n",
    "    id          \n",
    "    name\n",
    "        BEVMK3 {\n",
    "    value\n",
    "    year\n",
    "    }\n",
    "  }\n",
    "}\n",
    "```\n",
    "\n",
    "Erklärungen zu den Zeilen:\n",
    "- Zeile 3: `region` ist ein **Field** des implizit zugrundeligenden **Type** `Query`. Das Field wird mit dem **Arg** `id` aufgerufen.\n",
    "- Zeile 4: `id` ist ein **Field** des Rückgabetypen von Query.region(id: ...) (dieser ist `Region`). Insbesondere ist es damit technisch nicht das Selbe wie das argument `id` in der vorhergehenden Zeile (inhaltlich sind sie gleich)\n",
    "- Zeile 5 `name` ist ein **Field** des Rückgabetypen von Query.region(id: ...).\n",
    "- Zeile 6 `BEVMK3` ist ein **Field** des Rückgabetypen von Query.region(id: ...). Hier bekinnt im gegensatzt zu den beiden vohergehenden Zeilen eine weitere Hierarchieebene los. Grund dafür ist dass der Rückgabewert von Region.BEVMK3 ein komplexer datentyp ist der selbst wieder Fields beinhaltet. `id` und `name` hingeben geben die elementaren Datentypen Int und String zurück. **Wichtig** in der datenguide Konvention sind hat der Typ **Region** Fields zu allen Statistiken, die wiederum Objekte vom Typ mit namen der Statistik zurückgeben. In bezug auf das aktuelle Beispiel bedeutet dies es gibt das **Field** BEVMK3 welches den **Type** BEVMK3 zurückgibt.\n",
    "- Zeile 7 & 8 sind **Fields** des Rückgabewertes von Region.BEVMK3 (welcher selbst auch den Namen BEVMK3 trägt)\n",
    "\n",
    "## Konsequenzen\n",
    "\n",
    "Als konsequenz bedutet dies, dass man zum Abfragen von möglichen Ausgabewerten nach Fields schauen muss, und zu Abfrage von möglichen Filterwerten nach Args von Fields. Zusammengefasst\n",
    "- Ausgabewerte = Fields\n",
    "- Filterparameter = Args\n",
    "\n",
    "Beispielqueries an die Datenbank sehen wie folgt aus"
   ]
  },
  {
   "cell_type": "code",
   "execution_count": 1,
   "metadata": {},
   "outputs": [
    {
     "name": "stdout",
     "output_type": "stream",
     "text": [
      "{'args': [{'defaultValue': None,\n",
      "           'description': 'Jahr des Stichtages',\n",
      "           'name': 'year',\n",
      "           'type': {'ofType': {'name': 'Int'}}},\n",
      "          {'defaultValue': None,\n",
      "           'description': 'Statistik',\n",
      "           'name': 'statistics',\n",
      "           'type': {'ofType': {'name': 'BEVMK3Statistics'}}}],\n",
      " 'name': 'BEVMK3'}\n"
     ]
    }
   ],
   "source": [
    "import requests\n",
    "from pprint import pprint\n",
    "\n",
    "def runQuery(queryString):\n",
    "    post_json = dict()\n",
    "    post_json[\"query\"] = queryString\n",
    "    header = { 'Content-Type': 'application/json' }\n",
    "    URL = \"https://api-next.datengui.de/graphql\"\n",
    "    resp = requests.post(url=URL,headers=header,json=post_json)\n",
    "    \n",
    "    if resp.status_code == 200:\n",
    "        return resp.json()\n",
    "    else:\n",
    "        raise Exception(f\"Http error: status code {resp.status_code}\")\n",
    "        \n",
    "arguments_query = \"\"\"\n",
    "{\n",
    "  __type(name: \"Region\") {\n",
    "    fields {\n",
    "      name\n",
    "      args {\n",
    "        name\n",
    "        description\n",
    "        defaultValue\n",
    "        type {\n",
    "          ofType {\n",
    "            name\n",
    "          }\n",
    "        }\n",
    "        }\n",
    "      }\n",
    "    }\n",
    "}\n",
    "\"\"\"\n",
    "pprint([field for field in runQuery(arguments_query).get('data').get('__type').get('fields')\n",
    " if field['name'] == 'BEVMK3'][0])"
   ]
  },
  {
   "cell_type": "code",
   "execution_count": 2,
   "metadata": {},
   "outputs": [
    {
     "name": "stdout",
     "output_type": "stream",
     "text": [
      "{'data': {'__type': {'fields': [{'name': 'id'},\n",
      "                                {'name': 'year'},\n",
      "                                {'name': 'value'},\n",
      "                                {'name': 'source'}]}}}\n"
     ]
    }
   ],
   "source": [
    "field_query = \"\"\"\n",
    "{\n",
    "  __type(name: \"BEVMK3\") {\n",
    "    fields {\n",
    "      name\n",
    "    }\n",
    "}\n",
    "}\n",
    "\"\"\"\n",
    "pprint(runQuery(field_query)) #.get('data').get('__type').get('fields')"
   ]
  },
  {
   "cell_type": "markdown",
   "metadata": {},
   "source": [
    "## Other points worth explaining\n",
    "- variables\n",
    "- @inlcude/@skip\n",
    "- Fragments"
   ]
  },
  {
   "cell_type": "code",
   "execution_count": null,
   "metadata": {},
   "outputs": [],
   "source": []
  }
 ],
 "metadata": {
  "kernelspec": {
   "display_name": "datenguide",
   "language": "python",
   "name": "datenguide"
  },
  "language_info": {
   "codemirror_mode": {
    "name": "ipython",
    "version": 3
   },
   "file_extension": ".py",
   "mimetype": "text/x-python",
   "name": "python",
   "nbconvert_exporter": "python",
   "pygments_lexer": "ipython3",
   "version": "3.6.7"
  }
 },
 "nbformat": 4,
 "nbformat_minor": 2
}
